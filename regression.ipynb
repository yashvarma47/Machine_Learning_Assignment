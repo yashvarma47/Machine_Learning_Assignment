{
 "cells": [
  {
   "cell_type": "code",
   "execution_count": 2,
   "id": "af9e417d",
   "metadata": {},
   "outputs": [
    {
     "name": "stdout",
     "output_type": "stream",
     "text": [
      "Requirement already satisfied: ucimlrepo in c:\\users\\manoj\\anaconda3\\lib\\site-packages (0.0.7)\n",
      "Requirement already satisfied: pandas>=1.0.0 in c:\\users\\manoj\\anaconda3\\lib\\site-packages (from ucimlrepo) (2.2.3)\n",
      "Requirement already satisfied: certifi>=2020.12.5 in c:\\users\\manoj\\anaconda3\\lib\\site-packages (from ucimlrepo) (2025.8.3)\n",
      "Requirement already satisfied: numpy>=1.26.0 in c:\\users\\manoj\\anaconda3\\lib\\site-packages (from pandas>=1.0.0->ucimlrepo) (2.1.3)\n",
      "Requirement already satisfied: python-dateutil>=2.8.2 in c:\\users\\manoj\\anaconda3\\lib\\site-packages (from pandas>=1.0.0->ucimlrepo) (2.9.0.post0)\n",
      "Requirement already satisfied: pytz>=2020.1 in c:\\users\\manoj\\anaconda3\\lib\\site-packages (from pandas>=1.0.0->ucimlrepo) (2024.1)\n",
      "Requirement already satisfied: tzdata>=2022.7 in c:\\users\\manoj\\anaconda3\\lib\\site-packages (from pandas>=1.0.0->ucimlrepo) (2025.2)\n",
      "Requirement already satisfied: six>=1.5 in c:\\users\\manoj\\anaconda3\\lib\\site-packages (from python-dateutil>=2.8.2->pandas>=1.0.0->ucimlrepo) (1.17.0)\n",
      "Note: you may need to restart the kernel to use updated packages.\n"
     ]
    }
   ],
   "source": [
    "%pip install ucimlrepo"
   ]
  },
  {
   "cell_type": "code",
   "execution_count": 4,
   "id": "5d9cc008",
   "metadata": {},
   "outputs": [
    {
     "name": "stdout",
     "output_type": "stream",
     "text": [
      "{'uci_id': 291, 'name': 'Airfoil Self-Noise', 'repository_url': 'https://archive.ics.uci.edu/dataset/291/airfoil+self+noise', 'data_url': 'https://archive.ics.uci.edu/static/public/291/data.csv', 'abstract': 'NASA data set, obtained from a series of aerodynamic and acoustic tests of two and three-dimensional airfoil blade sections conducted in an anechoic wind tunnel.', 'area': 'Physics and Chemistry', 'tasks': ['Regression'], 'characteristics': ['Multivariate'], 'num_instances': 1503, 'num_features': 5, 'feature_types': ['Real'], 'demographics': [], 'target_col': ['scaled-sound-pressure'], 'index_col': None, 'has_missing_values': 'no', 'missing_values_symbol': None, 'year_of_dataset_creation': 1989, 'last_updated': 'Fri Mar 29 2024', 'dataset_doi': '10.24432/C5VW2C', 'creators': ['Thomas Brooks', 'D. Pope', 'Michael Marcolini'], 'intro_paper': None, 'additional_info': {'summary': 'The NASA data set comprises different size NACA 0012 airfoils at various wind tunnel speeds and angles of attack. The span of the airfoil and the observer position were the same in all of the experiments. ', 'purpose': None, 'funded_by': None, 'instances_represent': None, 'recommended_data_splits': None, 'sensitive_data': None, 'preprocessing_description': None, 'variable_info': 'This problem has the following inputs:\\r\\n1. Frequency, in Hertzs. \\r\\n2. Angle of attack, in degrees. \\r\\n3. Chord length, in meters.\\r\\n4. Free-stream velocity, in meters per second. \\r\\n5. Suction side displacement thickness, in meters. \\r\\n\\r\\nThe only output is:\\r\\n6. Scaled sound pressure level, in decibels. \\r\\n', 'citation': None}}\n",
      "                                  name     role        type demographic  \\\n",
      "0                            frequency  Feature     Integer        None   \n",
      "1                         attack-angle  Feature      Binary        None   \n",
      "2                         chord-length  Feature  Continuous        None   \n",
      "3                 free-stream-velocity  Feature  Continuous        None   \n",
      "4  suction-side-displacement-thickness  Feature  Continuous        None   \n",
      "5                scaled-sound-pressure   Target  Continuous        None   \n",
      "\n",
      "  description units missing_values  \n",
      "0        None    Hz             no  \n",
      "1        None   deg             no  \n",
      "2        None     m             no  \n",
      "3        None   m/s             no  \n",
      "4        None     m             no  \n",
      "5        None    dB             no  \n"
     ]
    }
   ],
   "source": [
    "from ucimlrepo import fetch_ucirepo\n",
    "# fetch dataset \n",
    "airfoil_self_noise = fetch_ucirepo(id=291) \n",
    "  \n",
    "# data (as pandas dataframes) \n",
    "X = airfoil_self_noise.data.features \n",
    "y = airfoil_self_noise.data.targets \n",
    "  \n",
    "# metadata \n",
    "print(airfoil_self_noise.metadata) \n",
    "  \n",
    "# variable information \n",
    "print(airfoil_self_noise.variables)\n"
   ]
  },
  {
   "cell_type": "code",
   "execution_count": 5,
   "id": "1f5c9d78",
   "metadata": {},
   "outputs": [
    {
     "data": {
      "text/html": [
       "<div>\n",
       "<style scoped>\n",
       "    .dataframe tbody tr th:only-of-type {\n",
       "        vertical-align: middle;\n",
       "    }\n",
       "\n",
       "    .dataframe tbody tr th {\n",
       "        vertical-align: top;\n",
       "    }\n",
       "\n",
       "    .dataframe thead th {\n",
       "        text-align: right;\n",
       "    }\n",
       "</style>\n",
       "<table border=\"1\" class=\"dataframe\">\n",
       "  <thead>\n",
       "    <tr style=\"text-align: right;\">\n",
       "      <th></th>\n",
       "      <th>frequency</th>\n",
       "      <th>attack-angle</th>\n",
       "      <th>chord-length</th>\n",
       "      <th>free-stream-velocity</th>\n",
       "      <th>suction-side-displacement-thickness</th>\n",
       "    </tr>\n",
       "  </thead>\n",
       "  <tbody>\n",
       "    <tr>\n",
       "      <th>0</th>\n",
       "      <td>800</td>\n",
       "      <td>0.0</td>\n",
       "      <td>0.3048</td>\n",
       "      <td>71.3</td>\n",
       "      <td>0.002663</td>\n",
       "    </tr>\n",
       "    <tr>\n",
       "      <th>1</th>\n",
       "      <td>1000</td>\n",
       "      <td>0.0</td>\n",
       "      <td>0.3048</td>\n",
       "      <td>71.3</td>\n",
       "      <td>0.002663</td>\n",
       "    </tr>\n",
       "    <tr>\n",
       "      <th>2</th>\n",
       "      <td>1250</td>\n",
       "      <td>0.0</td>\n",
       "      <td>0.3048</td>\n",
       "      <td>71.3</td>\n",
       "      <td>0.002663</td>\n",
       "    </tr>\n",
       "    <tr>\n",
       "      <th>3</th>\n",
       "      <td>1600</td>\n",
       "      <td>0.0</td>\n",
       "      <td>0.3048</td>\n",
       "      <td>71.3</td>\n",
       "      <td>0.002663</td>\n",
       "    </tr>\n",
       "    <tr>\n",
       "      <th>4</th>\n",
       "      <td>2000</td>\n",
       "      <td>0.0</td>\n",
       "      <td>0.3048</td>\n",
       "      <td>71.3</td>\n",
       "      <td>0.002663</td>\n",
       "    </tr>\n",
       "  </tbody>\n",
       "</table>\n",
       "</div>"
      ],
      "text/plain": [
       "   frequency  attack-angle  chord-length  free-stream-velocity  \\\n",
       "0        800           0.0        0.3048                  71.3   \n",
       "1       1000           0.0        0.3048                  71.3   \n",
       "2       1250           0.0        0.3048                  71.3   \n",
       "3       1600           0.0        0.3048                  71.3   \n",
       "4       2000           0.0        0.3048                  71.3   \n",
       "\n",
       "   suction-side-displacement-thickness  \n",
       "0                             0.002663  \n",
       "1                             0.002663  \n",
       "2                             0.002663  \n",
       "3                             0.002663  \n",
       "4                             0.002663  "
      ]
     },
     "execution_count": 5,
     "metadata": {},
     "output_type": "execute_result"
    }
   ],
   "source": [
    "X.head()"
   ]
  },
  {
   "cell_type": "code",
   "execution_count": 6,
   "id": "a47e2edb",
   "metadata": {},
   "outputs": [
    {
     "data": {
      "text/html": [
       "<div>\n",
       "<style scoped>\n",
       "    .dataframe tbody tr th:only-of-type {\n",
       "        vertical-align: middle;\n",
       "    }\n",
       "\n",
       "    .dataframe tbody tr th {\n",
       "        vertical-align: top;\n",
       "    }\n",
       "\n",
       "    .dataframe thead th {\n",
       "        text-align: right;\n",
       "    }\n",
       "</style>\n",
       "<table border=\"1\" class=\"dataframe\">\n",
       "  <thead>\n",
       "    <tr style=\"text-align: right;\">\n",
       "      <th></th>\n",
       "      <th>scaled-sound-pressure</th>\n",
       "    </tr>\n",
       "  </thead>\n",
       "  <tbody>\n",
       "    <tr>\n",
       "      <th>0</th>\n",
       "      <td>126.201</td>\n",
       "    </tr>\n",
       "    <tr>\n",
       "      <th>1</th>\n",
       "      <td>125.201</td>\n",
       "    </tr>\n",
       "    <tr>\n",
       "      <th>2</th>\n",
       "      <td>125.951</td>\n",
       "    </tr>\n",
       "    <tr>\n",
       "      <th>3</th>\n",
       "      <td>127.591</td>\n",
       "    </tr>\n",
       "    <tr>\n",
       "      <th>4</th>\n",
       "      <td>127.461</td>\n",
       "    </tr>\n",
       "  </tbody>\n",
       "</table>\n",
       "</div>"
      ],
      "text/plain": [
       "   scaled-sound-pressure\n",
       "0                126.201\n",
       "1                125.201\n",
       "2                125.951\n",
       "3                127.591\n",
       "4                127.461"
      ]
     },
     "execution_count": 6,
     "metadata": {},
     "output_type": "execute_result"
    }
   ],
   "source": [
    "y.head()"
   ]
  },
  {
   "cell_type": "code",
   "execution_count": 7,
   "id": "e93270db",
   "metadata": {},
   "outputs": [
    {
     "data": {
      "image/png": "[encoded data removed]",
      "text/plain": [
       "<Figure size 640x480 with 1 Axes>"
      ]
     },
     "metadata": {},
     "output_type": "display_data"
    }
   ],
   "source": [
    "import matplotlib.pyplot as plt\n",
    "\n",
    "plt.boxplot(X)\n",
    "plt.title(\"Boxplot of all features\")\n",
    "plt.xlabel(\"Feature index\")\n",
    "plt.ylabel(\"Value\")\n",
    "plt.show()\n"
   ]
  },
  {
   "cell_type": "code",
   "execution_count": 8,
   "id": "eeb7e701",
   "metadata": {},
   "outputs": [
    {
     "data": {
      "image/png": "[encoded data removed]",
      "text/plain": [
       "<Figure size 640x480 with 1 Axes>"
      ]
     },
     "metadata": {},
     "output_type": "display_data"
    }
   ],
   "source": [
    "X.iloc[:, 1:5].set_axis(['F2', 'F3', 'F4', 'F5'], axis=1).boxplot()\n",
    "plt.title(\"Boxplot with short labels\")\n",
    "plt.show()"
   ]
  },
  {
   "cell_type": "code",
   "execution_count": 9,
   "id": "a4dac141",
   "metadata": {},
   "outputs": [],
   "source": [
    "from sklearn.preprocessing import StandardScaler\n",
    "scaler = StandardScaler()\n",
    "X_scaled = scaler.fit_transform(X) #feature scaling"
   ]
  },
  {
   "cell_type": "code",
   "execution_count": 13,
   "id": "32ace22f",
   "metadata": {},
   "outputs": [
    {
     "name": "stdout",
     "output_type": "stream",
     "text": [
      "\n",
      "Model: Linear Regression\n",
      "  MSE (per fold): [22.12864332 22.64550674 22.05603206 24.19999734 25.79123265]\n",
      "  Average MSE: 23.3643\n",
      "\n",
      "Model: Decision Tree\n",
      "  MSE (per fold): [5.8761745  6.97770156 6.39430313 7.60144352 8.74368252]\n",
      "  Average MSE: 7.1187\n",
      "\n",
      "Model: Support Vector Machine\n",
      "  MSE (per fold): [13.80199963 13.57722524 13.76879967 14.50575636 16.42807869]\n",
      "  Average MSE: 14.4164\n"
     ]
    }
   ],
   "source": [
    "from sklearn.linear_model import LinearRegression\n",
    "from sklearn.tree import DecisionTreeRegressor\n",
    "from sklearn.model_selection import cross_val_score, KFold\n",
    "import numpy as np\n",
    "from sklearn.svm import SVR\n",
    "\n",
    "\n",
    "linreg = LinearRegression()\n",
    "tree = DecisionTreeRegressor(random_state=42)\n",
    "svm_reg = SVR()\n",
    "\n",
    "models = {\"Linear Regression\": linreg, \"Decision Tree\": tree,\"Support Vector Machine\": svm_reg}\n",
    "\n",
    "# y_flat = y.to_numpy().ravel()\n",
    "y_flat = y.values.ravel()\n",
    "\n",
    "kf = KFold(n_splits=5, shuffle=True, random_state=42)\n",
    "for i, model in models.items():\n",
    "    scores = cross_val_score(model, X_scaled, y_flat, cv=kf, scoring='neg_mean_squared_error')\n",
    "    print(f\"\\nModel: {i}\") \n",
    "    print(\"  MSE (per fold):\", -scores)\n",
    "    print(f\"  Average MSE: {-scores.mean():.4f}\")"
   ]
  },
  {
   "cell_type": "code",
   "execution_count": null,
   "id": "141216f0-ca54-4564-950a-dc60b086dc93",
   "metadata": {},
   "outputs": [],
   "source": []
  }
 ],
 "metadata": {
  "kernelspec": {
   "display_name": "Python 3",
   "language": "python",
   "name": "python3"
  },
  "language_info": {
   "codemirror_mode": {
    "name": "ipython",
    "version": 3
   },
   "file_extension": ".py",
   "mimetype": "text/x-python",
   "name": "python",
   "nbconvert_exporter": "python",
   "pygments_lexer": "ipython3",
   "version": "3.14.0"
  }
 },
 "nbformat": 4,
 "nbformat_minor": 5
}
